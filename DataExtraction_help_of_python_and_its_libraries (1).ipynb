{
  "nbformat": 4,
  "nbformat_minor": 0,
  "metadata": {
    "colab": {
      "provenance": []
    },
    "kernelspec": {
      "name": "python3",
      "display_name": "Python 3"
    },
    "language_info": {
      "name": "python"
    }
  },
  "cells": [
    {
      "cell_type": "markdown",
      "source": [
        "# **DataExtraction help of python and its libraries**."
      ],
      "metadata": {
        "id": "ug2i1__eI2T7"
      }
    },
    {
      "cell_type": "markdown",
      "source": [
        "# **Objective:**\n",
        "The objective of this assignment is to extract textual data articles from the given URL and perform text analysis to compute variables that are explained below.\n"
      ],
      "metadata": {
        "id": "Bdf93bsuBlrt"
      }
    },
    {
      "cell_type": "markdown",
      "source": [
        "For extraction of data and crawling we need to import the necessary libraries like pandas,textstat,Beautifulsoup etc for text manpulation."
      ],
      "metadata": {
        "id": "uc-c68aSB_uh"
      }
    },
    {
      "cell_type": "code",
      "execution_count": 1,
      "metadata": {
        "colab": {
          "base_uri": "https://localhost:8080/"
        },
        "id": "BzglA9rX_OSc",
        "outputId": "204d4f7e-b4c1-41f8-cc80-e4e5755d03c5"
      },
      "outputs": [
        {
          "output_type": "stream",
          "name": "stdout",
          "text": [
            "Collecting textstat\n",
            "  Downloading textstat-0.7.3-py3-none-any.whl (105 kB)\n",
            "\u001b[2K     \u001b[90m━━━━━━━━━━━━━━━━━━━━━━━━━━━━━━━━━━━━━━━━\u001b[0m \u001b[32m105.1/105.1 kB\u001b[0m \u001b[31m2.6 MB/s\u001b[0m eta \u001b[36m0:00:00\u001b[0m\n",
            "\u001b[?25hCollecting pyphen (from textstat)\n",
            "  Downloading pyphen-0.14.0-py3-none-any.whl (2.0 MB)\n",
            "\u001b[2K     \u001b[90m━━━━━━━━━━━━━━━━━━━━━━━━━━━━━━━━━━━━━━━━\u001b[0m \u001b[32m2.0/2.0 MB\u001b[0m \u001b[31m11.5 MB/s\u001b[0m eta \u001b[36m0:00:00\u001b[0m\n",
            "\u001b[?25hInstalling collected packages: pyphen, textstat\n",
            "Successfully installed pyphen-0.14.0 textstat-0.7.3\n"
          ]
        }
      ],
      "source": [
        "!pip install textstat"
      ]
    },
    {
      "cell_type": "code",
      "source": [
        "import pandas as pd\n",
        "import requests\n",
        "from bs4 import BeautifulSoup\n",
        "from textblob import TextBlob\n",
        "import re\n",
        "import nltk\n",
        "from nltk.tokenize import sent_tokenize, word_tokenize\n",
        "from nltk.corpus import stopwords\n",
        "from textstat import flesch_reading_ease, syllable_count\n",
        "\n",
        "# Download NLTK resources\n",
        "nltk.download('punkt')\n",
        "nltk.download('stopwords')"
      ],
      "metadata": {
        "colab": {
          "base_uri": "https://localhost:8080/"
        },
        "id": "itmcbDF3_d1R",
        "outputId": "cecf29f9-3b8f-4091-a23e-032752839e93"
      },
      "execution_count": 2,
      "outputs": [
        {
          "output_type": "stream",
          "name": "stderr",
          "text": [
            "[nltk_data] Downloading package punkt to /root/nltk_data...\n",
            "[nltk_data]   Unzipping tokenizers/punkt.zip.\n",
            "[nltk_data] Downloading package stopwords to /root/nltk_data...\n",
            "[nltk_data]   Unzipping corpora/stopwords.zip.\n"
          ]
        },
        {
          "output_type": "execute_result",
          "data": {
            "text/plain": [
              "True"
            ]
          },
          "metadata": {},
          "execution_count": 2
        }
      ]
    },
    {
      "cell_type": "markdown",
      "source": [
        "# **Data Extraction**:\n",
        "Input.xlsx\n",
        "For each of the articles, given in the input.xlsx file, extract the article text and save the extracted article in a text file with URL_ID as its file name.\n"
      ],
      "metadata": {
        "id": "vb8YOiWqCcI5"
      }
    },
    {
      "cell_type": "code",
      "source": [
        "# Read the input Excel file containing URLs\n",
        "input_file = \"/content/Input.xlsx\"\n",
        "input_df = pd.read_excel(input_file)"
      ],
      "metadata": {
        "id": "Yjk0sKDx_dzx"
      },
      "execution_count": 3,
      "outputs": []
    },
    {
      "cell_type": "markdown",
      "source": [
        "In this process we extract the data to sepearte index and rows."
      ],
      "metadata": {
        "id": "MAhH3_9RCm6j"
      }
    },
    {
      "cell_type": "code",
      "source": [
        "for index, row in input_df.iterrows():\n",
        "    url_id = row['URL_ID']  # Assuming 'URL_ID' is the column name in the input file\n",
        "    url = row['URL']"
      ],
      "metadata": {
        "id": "_hxjwRxb_1mv"
      },
      "execution_count": 4,
      "outputs": []
    },
    {
      "cell_type": "markdown",
      "source": [
        "To create a Function to extract the data from the given url"
      ],
      "metadata": {
        "id": "l1Dw6-LwC1M2"
      }
    },
    {
      "cell_type": "code",
      "source": [
        "# Function to extract article text from a given URL\n",
        "def extract_article_text(url):\n",
        "    try:\n",
        "        # Send a GET request to the URL\n",
        "        response = requests.get(url)\n",
        "\n",
        "        # Check if request was successful\n",
        "        if response.status_code == 200:\n",
        "            # Parse the HTML content of the page\n",
        "            soup = BeautifulSoup(response.text, 'html.parser')\n",
        "\n",
        "            # Extract article text\n",
        "            article_text = \"\"\n",
        "            # Assuming article text is within <p> tags or specific class/id\n",
        "            paragraphs = soup.find_all('p')\n",
        "            for paragraph in paragraphs:\n",
        "                article_text += paragraph.get_text() + \"\\n\"\n",
        "\n",
        "            return article_text\n",
        "        else:\n",
        "            print(f\"Failed to retrieve data from URL: {url}\")\n",
        "            return None\n",
        "    except Exception as e:\n",
        "        print(f\"Error occurred while processing URL: {url}\\nError: {e}\")\n",
        "        return None\n",
        "\n",
        "article_text = extract_article_text(url)"
      ],
      "metadata": {
        "id": "tBSeQkjp_dyU"
      },
      "execution_count": 5,
      "outputs": []
    },
    {
      "cell_type": "markdown",
      "source": [
        "# **Variables:**\n",
        "1.\tPOSITIVE SCORE\n",
        "2.\tNEGATIVE SCORE\n",
        "3.\tPOLARITY SCORE\n",
        "4.\tSUBJECTIVITY SCORE\n",
        "5.\tAVG SENTENCE LENGTH\n",
        "6.\tPERCENTAGE OF COMPLEX WORDS\n",
        "7.\tFOG INDEX\n",
        "8.\tAVG NUMBER OF WORDS PER SENTENCE\n",
        "9.\tCOMPLEX WORD COUNT\n",
        "10.\tWORD COUNT\n",
        "11.\tSYLLABLE PER WORD\n",
        "12.\tPERSONAL PRONOUNS\n",
        "13.\tAVG WORD LENGTH\n",
        "Created the formula through help of text document.\n"
      ],
      "metadata": {
        "id": "P0K3fw1tEWHc"
      }
    },
    {
      "cell_type": "code",
      "source": [],
      "metadata": {
        "id": "LIMi82AaEVUJ"
      },
      "execution_count": null,
      "outputs": []
    },
    {
      "cell_type": "code",
      "source": [
        "# Function to perform textual analysis\n",
        "def perform_textual_analysis(article_text):\n",
        "    # Tokenize sentences\n",
        "    sentences = sent_tokenize(article_text)\n",
        "\n",
        "    # Tokenize words\n",
        "    words = word_tokenize(article_text)\n",
        "\n",
        "    # Remove stopwords\n",
        "    stop_words = set(stopwords.words('english'))\n",
        "    filtered_words = [word for word in words if word.lower() not in stop_words]\n",
        "\n",
        "    # Calculate positive and negative scores using TextBlob\n",
        "    blob = TextBlob(article_text)\n",
        "    sentiment_scores = blob.sentiment\n",
        "\n",
        "    positive_score = sentiment_scores.polarity if sentiment_scores.polarity > 0 else 0\n",
        "    negative_score = -sentiment_scores.polarity if sentiment_scores.polarity < 0 else 0\n",
        "\n",
        "    # Calculate polarity and subjectivity scores\n",
        "    polarity_score = sentiment_scores.polarity\n",
        "    subjectivity_score = sentiment_scores.subjectivity\n",
        "\n",
        "    # Calculate average sentence length\n",
        "    avg_sentence_length = sum(len(word_tokenize(sentence)) for sentence in sentences) / len(sentences)\n",
        "\n",
        "    # Calculate percentage of complex words\n",
        "    complex_word_count = sum(1 for word in filtered_words if syllable_count(word) > 2)\n",
        "    percentage_complex_words = (complex_word_count / len(filtered_words)) * 100 if len(filtered_words) > 0 else 0\n",
        "\n",
        "    # Calculate FOG index\n",
        "    fog_index = 0.4 * (avg_sentence_length + percentage_complex_words)\n",
        "\n",
        "    # Calculate average number of words per sentence\n",
        "    avg_words_per_sentence = len(filtered_words) / len(sentences) if len(sentences) > 0 else 0\n",
        "\n",
        "    # Calculate average word length\n",
        "    avg_word_length = sum(len(word) for word in filtered_words) / len(filtered_words) if len(filtered_words) > 0 else 0\n",
        "\n",
        "    # Calculate syllables per word\n",
        "    syllables_per_word = sum(syllable_count(word) for word in filtered_words) / len(filtered_words) if len(filtered_words) > 0 else 0\n",
        "\n",
        "    # Count personal pronouns\n",
        "    personal_pronouns = sum(1 for word in filtered_words if word.lower() in ['i', 'me', 'my', 'mine', 'myself', 'you', 'your', 'yours', 'yourself', 'he', 'him', 'his', 'himself', 'she', 'her', 'hers', 'herself', 'we', 'us', 'our', 'ours', 'ourselves', 'they', 'them', 'their', 'theirs', 'themselves'])\n",
        "\n",
        "    return positive_score, negative_score, polarity_score, subjectivity_score, avg_sentence_length, percentage_complex_words, fog_index, avg_words_per_sentence, complex_word_count, len(filtered_words), syllables_per_word, personal_pronouns, avg_word_length"
      ],
      "metadata": {
        "id": "Gd8dxPcW_dt7"
      },
      "execution_count": 6,
      "outputs": []
    },
    {
      "cell_type": "code",
      "source": [
        " if article_text:\n",
        "        # Perform textual analysis\n",
        "        (positive_score, negative_score, polarity_score, subjectivity_score, avg_sentence_length,\n",
        "         percentage_complex_words, fog_index, avg_words_per_sentence, complex_word_count,\n",
        "         word_count, syllables_per_word, personal_pronouns, avg_word_length) = perform_textual_analysis(article_text)"
      ],
      "metadata": {
        "id": "eIM1XfsB_dru"
      },
      "execution_count": 9,
      "outputs": []
    },
    {
      "cell_type": "markdown",
      "source": [
        "# **Generate the output col dataset**."
      ],
      "metadata": {
        "id": "YlGJmyA0Erd9"
      }
    },
    {
      "cell_type": "code",
      "source": [],
      "metadata": {
        "id": "6C7KW0lhEpkA"
      },
      "execution_count": null,
      "outputs": []
    },
    {
      "cell_type": "code",
      "source": [
        "output_columns = ['URL_ID', 'Positive Score', 'Negative Score', 'Polarity Score', 'Subjectivity Score', 'Avg Sentence Length', 'Percentage of Complex Words', 'FOG Index', 'Avg Words Per Sentence', 'Complex Word Count', 'Word Count', 'Syllables Per Word', 'Personal Pronouns', 'Avg Word Length']\n",
        "output_df = pd.DataFrame(columns=output_columns)\n"
      ],
      "metadata": {
        "id": "Wnubzkcw_dkW"
      },
      "execution_count": 10,
      "outputs": []
    },
    {
      "cell_type": "markdown",
      "source": [
        "# **Append the extract data to the output dataframe.**"
      ],
      "metadata": {
        "id": "rEzxfmfeEzMH"
      }
    },
    {
      "cell_type": "code",
      "source": [
        " # Append data to output DataFrame\n",
        "output_df = output_df.append({\n",
        "            'URL_ID': url_id,\n",
        "            'Positive Score': positive_score,\n",
        "            'Negative Score': negative_score,\n",
        "            'Polarity Score': polarity_score,\n",
        "            'Subjectivity Score': subjectivity_score,\n",
        "            'Avg Sentence Length': avg_sentence_length,\n",
        "            'Percentage of Complex Words': percentage_complex_words,\n",
        "            'FOG Index': fog_index,\n",
        "            'Avg Words Per Sentence': avg_words_per_sentence,\n",
        "            'Complex Word Count': complex_word_count,\n",
        "            'Word Count': word_count,\n",
        "            'Syllables Per Word': syllables_per_word,\n",
        "            'Personal Pronouns': personal_pronouns,\n",
        "            'Avg Word Length': avg_word_length\n",
        "        }, ignore_index=True)\n"
      ],
      "metadata": {
        "colab": {
          "base_uri": "https://localhost:8080/"
        },
        "id": "_lxZu_TzBGZv",
        "outputId": "633784f4-bbe6-4edf-b47b-bad65d1c46d8"
      },
      "execution_count": 12,
      "outputs": [
        {
          "output_type": "stream",
          "name": "stderr",
          "text": [
            "<ipython-input-12-213c51be77ce>:2: FutureWarning: The frame.append method is deprecated and will be removed from pandas in a future version. Use pandas.concat instead.\n",
            "  output_df = output_df.append({\n"
          ]
        }
      ]
    },
    {
      "cell_type": "markdown",
      "source": [
        "# **Convert the output from the dataset into the output file**"
      ],
      "metadata": {
        "id": "ycAyFCbEGTOw"
      }
    },
    {
      "cell_type": "code",
      "source": [
        "output_file = \"Output.xlsx\"\n",
        "output_df.to_excel(output_file, index=False)\n",
        "print(\"Output saved to:\", output_file)\n"
      ],
      "metadata": {
        "colab": {
          "base_uri": "https://localhost:8080/"
        },
        "id": "hY71MWFGBGWK",
        "outputId": "1b6ade76-4f3f-4d62-c58a-ea108a48b49b"
      },
      "execution_count": 13,
      "outputs": [
        {
          "output_type": "stream",
          "name": "stdout",
          "text": [
            "Output saved to: Output.xlsx\n"
          ]
        }
      ]
    },
    {
      "cell_type": "markdown",
      "source": [
        "# **Saved The Outfile and Extract it.**"
      ],
      "metadata": {
        "id": "ufyhwWfFIpIE"
      }
    },
    {
      "cell_type": "code",
      "source": [
        "data=pd.read_excel(\"/content/Output.xlsx\")"
      ],
      "metadata": {
        "id": "TGVgfgw8BGRo"
      },
      "execution_count": 14,
      "outputs": []
    },
    {
      "cell_type": "code",
      "source": [
        "data.head()"
      ],
      "metadata": {
        "colab": {
          "base_uri": "https://localhost:8080/",
          "height": 115
        },
        "id": "RiSSujHrBGP_",
        "outputId": "a5595914-ddc2-4ccb-b80c-436d84857675"
      },
      "execution_count": 15,
      "outputs": [
        {
          "output_type": "execute_result",
          "data": {
            "text/plain": [
              "            URL_ID  Positive Score  Negative Score  Polarity Score  \\\n",
              "0  blackassign0100        0.086026               0        0.086026   \n",
              "\n",
              "   Subjectivity Score  Avg Sentence Length  Percentage of Complex Words  \\\n",
              "0            0.416633            37.647059                    25.524044   \n",
              "\n",
              "   FOG Index  Avg Words Per Sentence  Complex Word Count  Word Count  \\\n",
              "0  25.268441               23.852941                 207         811   \n",
              "\n",
              "   Syllables Per Word  Personal Pronouns  Avg Word Length  \n",
              "0            1.733662                  1         5.885327  "
            ],
            "text/html": [
              "\n",
              "  <div id=\"df-23ff7ddf-0b82-4f19-8054-0a63fafb50c5\" class=\"colab-df-container\">\n",
              "    <div>\n",
              "<style scoped>\n",
              "    .dataframe tbody tr th:only-of-type {\n",
              "        vertical-align: middle;\n",
              "    }\n",
              "\n",
              "    .dataframe tbody tr th {\n",
              "        vertical-align: top;\n",
              "    }\n",
              "\n",
              "    .dataframe thead th {\n",
              "        text-align: right;\n",
              "    }\n",
              "</style>\n",
              "<table border=\"1\" class=\"dataframe\">\n",
              "  <thead>\n",
              "    <tr style=\"text-align: right;\">\n",
              "      <th></th>\n",
              "      <th>URL_ID</th>\n",
              "      <th>Positive Score</th>\n",
              "      <th>Negative Score</th>\n",
              "      <th>Polarity Score</th>\n",
              "      <th>Subjectivity Score</th>\n",
              "      <th>Avg Sentence Length</th>\n",
              "      <th>Percentage of Complex Words</th>\n",
              "      <th>FOG Index</th>\n",
              "      <th>Avg Words Per Sentence</th>\n",
              "      <th>Complex Word Count</th>\n",
              "      <th>Word Count</th>\n",
              "      <th>Syllables Per Word</th>\n",
              "      <th>Personal Pronouns</th>\n",
              "      <th>Avg Word Length</th>\n",
              "    </tr>\n",
              "  </thead>\n",
              "  <tbody>\n",
              "    <tr>\n",
              "      <th>0</th>\n",
              "      <td>blackassign0100</td>\n",
              "      <td>0.086026</td>\n",
              "      <td>0</td>\n",
              "      <td>0.086026</td>\n",
              "      <td>0.416633</td>\n",
              "      <td>37.647059</td>\n",
              "      <td>25.524044</td>\n",
              "      <td>25.268441</td>\n",
              "      <td>23.852941</td>\n",
              "      <td>207</td>\n",
              "      <td>811</td>\n",
              "      <td>1.733662</td>\n",
              "      <td>1</td>\n",
              "      <td>5.885327</td>\n",
              "    </tr>\n",
              "  </tbody>\n",
              "</table>\n",
              "</div>\n",
              "    <div class=\"colab-df-buttons\">\n",
              "\n",
              "  <div class=\"colab-df-container\">\n",
              "    <button class=\"colab-df-convert\" onclick=\"convertToInteractive('df-23ff7ddf-0b82-4f19-8054-0a63fafb50c5')\"\n",
              "            title=\"Convert this dataframe to an interactive table.\"\n",
              "            style=\"display:none;\">\n",
              "\n",
              "  <svg xmlns=\"http://www.w3.org/2000/svg\" height=\"24px\" viewBox=\"0 -960 960 960\">\n",
              "    <path d=\"M120-120v-720h720v720H120Zm60-500h600v-160H180v160Zm220 220h160v-160H400v160Zm0 220h160v-160H400v160ZM180-400h160v-160H180v160Zm440 0h160v-160H620v160ZM180-180h160v-160H180v160Zm440 0h160v-160H620v160Z\"/>\n",
              "  </svg>\n",
              "    </button>\n",
              "\n",
              "  <style>\n",
              "    .colab-df-container {\n",
              "      display:flex;\n",
              "      gap: 12px;\n",
              "    }\n",
              "\n",
              "    .colab-df-convert {\n",
              "      background-color: #E8F0FE;\n",
              "      border: none;\n",
              "      border-radius: 50%;\n",
              "      cursor: pointer;\n",
              "      display: none;\n",
              "      fill: #1967D2;\n",
              "      height: 32px;\n",
              "      padding: 0 0 0 0;\n",
              "      width: 32px;\n",
              "    }\n",
              "\n",
              "    .colab-df-convert:hover {\n",
              "      background-color: #E2EBFA;\n",
              "      box-shadow: 0px 1px 2px rgba(60, 64, 67, 0.3), 0px 1px 3px 1px rgba(60, 64, 67, 0.15);\n",
              "      fill: #174EA6;\n",
              "    }\n",
              "\n",
              "    .colab-df-buttons div {\n",
              "      margin-bottom: 4px;\n",
              "    }\n",
              "\n",
              "    [theme=dark] .colab-df-convert {\n",
              "      background-color: #3B4455;\n",
              "      fill: #D2E3FC;\n",
              "    }\n",
              "\n",
              "    [theme=dark] .colab-df-convert:hover {\n",
              "      background-color: #434B5C;\n",
              "      box-shadow: 0px 1px 3px 1px rgba(0, 0, 0, 0.15);\n",
              "      filter: drop-shadow(0px 1px 2px rgba(0, 0, 0, 0.3));\n",
              "      fill: #FFFFFF;\n",
              "    }\n",
              "  </style>\n",
              "\n",
              "    <script>\n",
              "      const buttonEl =\n",
              "        document.querySelector('#df-23ff7ddf-0b82-4f19-8054-0a63fafb50c5 button.colab-df-convert');\n",
              "      buttonEl.style.display =\n",
              "        google.colab.kernel.accessAllowed ? 'block' : 'none';\n",
              "\n",
              "      async function convertToInteractive(key) {\n",
              "        const element = document.querySelector('#df-23ff7ddf-0b82-4f19-8054-0a63fafb50c5');\n",
              "        const dataTable =\n",
              "          await google.colab.kernel.invokeFunction('convertToInteractive',\n",
              "                                                    [key], {});\n",
              "        if (!dataTable) return;\n",
              "\n",
              "        const docLinkHtml = 'Like what you see? Visit the ' +\n",
              "          '<a target=\"_blank\" href=https://colab.research.google.com/notebooks/data_table.ipynb>data table notebook</a>'\n",
              "          + ' to learn more about interactive tables.';\n",
              "        element.innerHTML = '';\n",
              "        dataTable['output_type'] = 'display_data';\n",
              "        await google.colab.output.renderOutput(dataTable, element);\n",
              "        const docLink = document.createElement('div');\n",
              "        docLink.innerHTML = docLinkHtml;\n",
              "        element.appendChild(docLink);\n",
              "      }\n",
              "    </script>\n",
              "  </div>\n",
              "\n",
              "\n",
              "    </div>\n",
              "  </div>\n"
            ],
            "application/vnd.google.colaboratory.intrinsic+json": {
              "type": "dataframe",
              "variable_name": "data",
              "summary": "{\n  \"name\": \"data\",\n  \"rows\": 1,\n  \"fields\": [\n    {\n      \"column\": \"URL_ID\",\n      \"properties\": {\n        \"dtype\": \"string\",\n        \"num_unique_values\": 1,\n        \"samples\": [\n          \"blackassign0100\"\n        ],\n        \"semantic_type\": \"\",\n        \"description\": \"\"\n      }\n    },\n    {\n      \"column\": \"Positive Score\",\n      \"properties\": {\n        \"dtype\": \"number\",\n        \"std\": null,\n        \"min\": 0.0860260020454195,\n        \"max\": 0.0860260020454195,\n        \"num_unique_values\": 1,\n        \"samples\": [\n          0.0860260020454195\n        ],\n        \"semantic_type\": \"\",\n        \"description\": \"\"\n      }\n    },\n    {\n      \"column\": \"Negative Score\",\n      \"properties\": {\n        \"dtype\": \"number\",\n        \"std\": null,\n        \"min\": 0,\n        \"max\": 0,\n        \"num_unique_values\": 1,\n        \"samples\": [\n          0\n        ],\n        \"semantic_type\": \"\",\n        \"description\": \"\"\n      }\n    },\n    {\n      \"column\": \"Polarity Score\",\n      \"properties\": {\n        \"dtype\": \"number\",\n        \"std\": null,\n        \"min\": 0.0860260020454195,\n        \"max\": 0.0860260020454195,\n        \"num_unique_values\": 1,\n        \"samples\": [\n          0.0860260020454195\n        ],\n        \"semantic_type\": \"\",\n        \"description\": \"\"\n      }\n    },\n    {\n      \"column\": \"Subjectivity Score\",\n      \"properties\": {\n        \"dtype\": \"number\",\n        \"std\": null,\n        \"min\": 0.4166333935751411,\n        \"max\": 0.4166333935751411,\n        \"num_unique_values\": 1,\n        \"samples\": [\n          0.4166333935751411\n        ],\n        \"semantic_type\": \"\",\n        \"description\": \"\"\n      }\n    },\n    {\n      \"column\": \"Avg Sentence Length\",\n      \"properties\": {\n        \"dtype\": \"number\",\n        \"std\": null,\n        \"min\": 37.64705882352941,\n        \"max\": 37.64705882352941,\n        \"num_unique_values\": 1,\n        \"samples\": [\n          37.64705882352941\n        ],\n        \"semantic_type\": \"\",\n        \"description\": \"\"\n      }\n    },\n    {\n      \"column\": \"Percentage of Complex Words\",\n      \"properties\": {\n        \"dtype\": \"number\",\n        \"std\": null,\n        \"min\": 25.52404438964241,\n        \"max\": 25.52404438964241,\n        \"num_unique_values\": 1,\n        \"samples\": [\n          25.52404438964241\n        ],\n        \"semantic_type\": \"\",\n        \"description\": \"\"\n      }\n    },\n    {\n      \"column\": \"FOG Index\",\n      \"properties\": {\n        \"dtype\": \"number\",\n        \"std\": null,\n        \"min\": 25.26844128526873,\n        \"max\": 25.26844128526873,\n        \"num_unique_values\": 1,\n        \"samples\": [\n          25.26844128526873\n        ],\n        \"semantic_type\": \"\",\n        \"description\": \"\"\n      }\n    },\n    {\n      \"column\": \"Avg Words Per Sentence\",\n      \"properties\": {\n        \"dtype\": \"number\",\n        \"std\": null,\n        \"min\": 23.85294117647059,\n        \"max\": 23.85294117647059,\n        \"num_unique_values\": 1,\n        \"samples\": [\n          23.85294117647059\n        ],\n        \"semantic_type\": \"\",\n        \"description\": \"\"\n      }\n    },\n    {\n      \"column\": \"Complex Word Count\",\n      \"properties\": {\n        \"dtype\": \"number\",\n        \"std\": null,\n        \"min\": 207,\n        \"max\": 207,\n        \"num_unique_values\": 1,\n        \"samples\": [\n          207\n        ],\n        \"semantic_type\": \"\",\n        \"description\": \"\"\n      }\n    },\n    {\n      \"column\": \"Word Count\",\n      \"properties\": {\n        \"dtype\": \"number\",\n        \"std\": null,\n        \"min\": 811,\n        \"max\": 811,\n        \"num_unique_values\": 1,\n        \"samples\": [\n          811\n        ],\n        \"semantic_type\": \"\",\n        \"description\": \"\"\n      }\n    },\n    {\n      \"column\": \"Syllables Per Word\",\n      \"properties\": {\n        \"dtype\": \"number\",\n        \"std\": null,\n        \"min\": 1.733662145499383,\n        \"max\": 1.733662145499383,\n        \"num_unique_values\": 1,\n        \"samples\": [\n          1.733662145499383\n        ],\n        \"semantic_type\": \"\",\n        \"description\": \"\"\n      }\n    },\n    {\n      \"column\": \"Personal Pronouns\",\n      \"properties\": {\n        \"dtype\": \"number\",\n        \"std\": null,\n        \"min\": 1,\n        \"max\": 1,\n        \"num_unique_values\": 1,\n        \"samples\": [\n          1\n        ],\n        \"semantic_type\": \"\",\n        \"description\": \"\"\n      }\n    },\n    {\n      \"column\": \"Avg Word Length\",\n      \"properties\": {\n        \"dtype\": \"number\",\n        \"std\": null,\n        \"min\": 5.885326757090012,\n        \"max\": 5.885326757090012,\n        \"num_unique_values\": 1,\n        \"samples\": [\n          5.885326757090012\n        ],\n        \"semantic_type\": \"\",\n        \"description\": \"\"\n      }\n    }\n  ]\n}"
            }
          },
          "metadata": {},
          "execution_count": 15
        }
      ]
    },
    {
      "cell_type": "code",
      "source": [],
      "metadata": {
        "id": "ybWYLBrKBGNm"
      },
      "execution_count": null,
      "outputs": []
    }
  ]
}